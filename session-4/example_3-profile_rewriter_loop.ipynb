{
 "cells": [
  {
   "cell_type": "markdown",
   "id": "70e3293b-857b-4c48-a930-180ab13fb158",
   "metadata": {},
   "source": [
    "# Rewriting Portfolio in a Feedback Loop\n",
    "## ABB #6 - Session 4\n",
    "\n",
    "Code authored by: Shaw Talebi\n",
    "\n",
    "**Resources**\n",
    "- [YouTube video](https://youtu.be/6VcXukJuGA0)\n",
    "- [Blog post](https://shawhin.medium.com/llm-in-a-loop-improving-outputs-with-evals-5620e00f7258?sk=95956863ff584b8d1fd3664b0ec8a6bc)"
   ]
  },
  {
   "cell_type": "markdown",
   "id": "db7edbcf-dcf7-4f47-8a92-690624464dab",
   "metadata": {},
   "source": [
    "### imports"
   ]
  },
  {
   "cell_type": "code",
   "execution_count": 1,
   "id": "b9cbbd3f-4e5e-40b2-9f22-da0c6fac38c5",
   "metadata": {},
   "outputs": [],
   "source": [
    "from openai import OpenAI\n",
    "from dotenv import load_dotenv\n",
    "import os\n",
    "\n",
    "from functions import *"
   ]
  },
  {
   "cell_type": "code",
   "execution_count": 2,
   "id": "28f58bca-3491-4194-be0b-70d91a60ad29",
   "metadata": {},
   "outputs": [],
   "source": [
    "# import sk from .env file\n",
    "load_dotenv()\n",
    "\n",
    "# connect to openai API\n",
    "client = OpenAI(api_key=os.getenv(\"OPENAI_API_KEY\"))"
   ]
  },
  {
   "cell_type": "markdown",
   "id": "f28be274-197d-455b-932e-d4060c7f8219",
   "metadata": {},
   "source": [
    "### create instructions"
   ]
  },
  {
   "cell_type": "code",
   "execution_count": 3,
   "id": "552388fe-19c4-477f-b80c-5ec7b720cddf",
   "metadata": {},
   "outputs": [],
   "source": [
    "# read existing profile text\n",
    "instructions = read_context(\"instructions.txt\")\n",
    "# read examples\n",
    "example = read_context(\"example.txt\")"
   ]
  },
  {
   "cell_type": "code",
   "execution_count": 4,
   "id": "7ac92a53-d04a-492c-a41b-a1ccd511679d",
   "metadata": {},
   "outputs": [],
   "source": [
    "instructions = f\"\"\"{instructions}\n",
    "\n",
    "---\n",
    "\n",
    "## Here's an example\"\n",
    "{example}\n",
    "\n",
    "----\n",
    "\n",
    "## Important Guidelines:\n",
    "- Profiles should be written in **PLAIN TEXT** (NOT markdown)\n",
    "\n",
    "----\n",
    "\"\"\""
   ]
  },
  {
   "cell_type": "markdown",
   "id": "12b31a5b-af6a-4fb6-86a2-0854d28f8435",
   "metadata": {},
   "source": [
    "### initial prompt"
   ]
  },
  {
   "cell_type": "code",
   "execution_count": 5,
   "id": "34bab96e-bee7-468e-8394-cd91ac689752",
   "metadata": {},
   "outputs": [],
   "source": [
    "# read current profile\n",
    "profile = read_context(\"background.txt\")\n",
    "# define customer\n",
    "customer = \"Founders and CXOs of small to medium sized business, seeking guidance with AI use cases\""
   ]
  },
  {
   "cell_type": "code",
   "execution_count": 6,
   "id": "388e948d-e9d5-48ca-be0a-d6eec923cbef",
   "metadata": {},
   "outputs": [],
   "source": [
    "prompt = f\"\"\"### 📄 Upwork Profile Rewrite Task\n",
    "\n",
    "Below is a freelancer's background, your task is to rewrite it based on high-converting Upwork profile best practices. Their ideal customer avatar is: {customer}.\n",
    "\n",
    "----\n",
    "\n",
    "{profile}\n",
    "\n",
    "----\n",
    "\"\"\""
   ]
  },
  {
   "cell_type": "code",
   "execution_count": 7,
   "id": "5aa1dcc0-91d9-4c03-9dab-81bd6c1129f1",
   "metadata": {
    "scrolled": true
   },
   "outputs": [
    {
     "name": "stdout",
     "output_type": "stream",
     "text": [
      "### 📄 Upwork Profile Rewrite Task\n",
      "\n",
      "Below is a freelancer's background, your task is to rewrite it based on high-converting Upwork profile best practices. Their ideal customer avatar is: Founders and CXOs of small to medium sized business, seeking guidance with AI use cases.\n",
      "\n",
      "----\n",
      "\n",
      "# Data Scientist | PhD, Physics\n",
      "Meet Shaw, a data scientist, entrepreneur, researcher, content creator, physicist, drummer, and bread enthusiast driven by an insatiable curiosity to understand the world and create better systems.\n",
      "\n",
      "With a Ph.D. in Physics from The University of Texas at Dallas, Shaw has over 7 years of experience in data science and project management across diverse fields such as biometric research, credit risk, automotive sales, medicine, human performance, marketing, event planning, and content creation.\n",
      "\n",
      "As a data scientist, Shaw helps teams solve their problems through data-informed solutions while constantly seeking entrepreneurial opportunities to provide value and tackle challenging problems.\n",
      "\n",
      "Domain Experience:\n",
      "~~~~~~~~~~~~~~~~~~~~~\n",
      "• Biometric research\n",
      "• Credit risk\n",
      "• Medicine\n",
      "• Human Performance\n",
      "• Automotive industry\n",
      "• Marketing\n",
      "• Social media analytics\n",
      "• Content creation\n",
      "\n",
      "Consulting Services:\n",
      "~~~~~~~~~~~~~~~~~~~~~~\n",
      "• Project feasibility\n",
      "• Project scoping and planning\n",
      "• Project/Code review\n",
      "• Topic/Concept explanation\n",
      "\n",
      "Data Services:\n",
      "~~~~~~~~~~~~~~~\n",
      "• Automation - tedious data entry with a click of a button\n",
      "• Preparation - turn raw data into something workable\n",
      "• Visualization - translating numbers into powerful visuals\n",
      "• Exploration - discovering hidden gems in data\n",
      "• Modeling - develop data-driven models to make predictions\n",
      "• Causality - going beyond correlations and uncovering causation\n",
      "• Monitoring - ensure model predictions remain accurate after deployment\n",
      "\n",
      "----\n",
      "\n"
     ]
    }
   ],
   "source": [
    "print(prompt)"
   ]
  },
  {
   "cell_type": "markdown",
   "id": "a6f39a4e-ee98-4a7e-aa81-5ee1959b7a46",
   "metadata": {},
   "source": [
    "### Write-evaluate Loop"
   ]
  },
  {
   "cell_type": "code",
   "execution_count": 8,
   "id": "cabc0984-2755-498f-8ea8-720d2622e739",
   "metadata": {},
   "outputs": [
    {
     "name": "stdout",
     "output_type": "stream",
     "text": [
      "0: {'word_count': False, 'client_focus': False, 'social_proof': False, 'readability': False}\n",
      "1: {'word_count': True, 'client_focus': True, 'social_proof': True, 'readability': False}\n",
      "2: {'word_count': True, 'client_focus': True, 'social_proof': False, 'readability': False}\n",
      "3: {'word_count': True, 'client_focus': True, 'social_proof': True, 'readability': False}\n",
      "4: {'word_count': True, 'client_focus': True, 'social_proof': True, 'readability': False}\n",
      "5: {'word_count': True, 'client_focus': True, 'social_proof': True, 'readability': False}\n",
      "6: {'word_count': True, 'client_focus': True, 'social_proof': True, 'readability': False}\n",
      "7: {'word_count': True, 'client_focus': True, 'social_proof': True, 'readability': False}\n",
      "8: {'word_count': True, 'client_focus': True, 'social_proof': True, 'readability': False}\n",
      "9: {'word_count': True, 'client_focus': True, 'social_proof': True, 'readability': False}\n"
     ]
    }
   ],
   "source": [
    "counter = 0\n",
    "max_iter = 10\n",
    "\n",
    "while counter < max_iter:\n",
    "\n",
    "     # evaluate profile\n",
    "    results = run_all_evals(profile)\n",
    "    print(f\"{counter}: {results}\")\n",
    "\n",
    "    # check if all tests passed\n",
    "    if all(results.values()):\n",
    "        break\n",
    "    \n",
    "    # rewrite profile\n",
    "    profile = rewrite_profile(instructions, prompt, client)\n",
    "    write_profile(profile, f\"profile-{counter+1}.txt\")\n",
    "\n",
    "    # craft new prompt with feedback\n",
    "    prompt = generate_eval_report(profile)\n",
    "\n",
    "    # update counter\n",
    "    counter += 1"
   ]
  },
  {
   "cell_type": "code",
   "execution_count": 9,
   "id": "6522026b-cf13-484a-92ff-71bca70d5269",
   "metadata": {},
   "outputs": [
    {
     "name": "stdout",
     "output_type": "stream",
     "text": [
      "Unlock AI & Data-Driven Growth — Expert Help for Founders & CXOs\n",
      "\n",
      "Are you a founder or leader who wants to use AI but don’t know where to start? Do you want more value from your data but worry about wasting time or money? You’re not alone.\n",
      "\n",
      "Common problems I solve:\n",
      "- 🤔 Not sure which AI or data projects will help your business\n",
      "- 🕒 Spending too much time on manual data tasks\n",
      "- 📉 Messy data and reports you can’t trust\n",
      "- 🔍 Not sure how to test AI ideas before you invest\n",
      "- 🧩 Need help turning business goals into real solutions\n",
      "\n",
      "I help you get clear answers, save time, and get more value from your data.\n",
      "\n",
      "I have a Ph.D. in Physics and over 7 years as a data scientist and project lead. I help founders and leaders turn ideas into real AI and data projects that work. My style is simple: I listen to what you need and build easy-to-use tools that make a real difference.\n",
      "\n",
      "Why clients choose me:\n",
      "- I use simple words and focus on what matters to you.\n",
      "- I help you plan and test ideas, so you don’t waste time or money.\n",
      "- I have experience in healthcare, finance, cars, marketing, and online content.\n",
      "\n",
      "Results I’ve delivered:\n",
      "- Helped a healthcare startup save $100,000 a year by automating reports.\n",
      "- Built dashboards that found $500,000 in new revenue for a finance team.\n",
      "- Cut reporting time by 60% for a marketing company.\n",
      "- “Turned our messy data into clear insights. We made better decisions right away.” — Marketing Director\n",
      "- “Delivered honest advice and a working prototype fast. Highly recommended.” — Startup Founder\n",
      "\n",
      "Services I offer:\n",
      "✅ AI & Data Strategy — Find the best ways to use AI  \n",
      "✅ Feasibility & Scoping — Get honest advice before you invest  \n",
      "✅ Automation — Save time by removing manual work  \n",
      "✅ Data Preparation — Clean up your data for better results  \n",
      "✅ Visualization & Reporting — See your data in clear dashboards  \n",
      "✅ Predictive Modeling — Get simple forecasts  \n",
      "✅ Causality Analysis — Learn why things happen  \n",
      "✅ Model Monitoring — Make sure your tools keep working  \n",
      "✅ Code & Project Review — Get a second opinion on your project  \n",
      "\n",
      "Who I help:\n",
      "- Healthcare, finance, automotive, marketing, and media companies\n",
      "- Teams who want to save time, find new income, and make smarter choices\n",
      "- Leaders who want data made simple\n",
      "\n",
      "About me:  \n",
      "I have a PhD in Physics from The University of Texas at Dallas. I have worked in data and AI for over 7 years. I help clients in many industries solve real problems. I enjoy tough challenges and showing leaders what is possible with the right tools.\n",
      "\n",
      "🟢 We’re a good fit if you want expert advice, fast results, and clear solutions — not just code.\n",
      "\n",
      "📩 Want to get more from your data or AI ideas?  \n",
      "Send me a short message about your business problem or project idea. I reply quickly and personally to every message.\n",
      "\n",
      "Let’s turn your data into a real business asset.\n"
     ]
    }
   ],
   "source": [
    "print(profile)"
   ]
  },
  {
   "cell_type": "code",
   "execution_count": null,
   "id": "52cb4a67-0ff4-4ce1-b25f-53974dad3a27",
   "metadata": {},
   "outputs": [],
   "source": []
  }
 ],
 "metadata": {
  "kernelspec": {
   "display_name": "Python 3 (ipykernel)",
   "language": "python",
   "name": "python3"
  },
  "language_info": {
   "codemirror_mode": {
    "name": "ipython",
    "version": 3
   },
   "file_extension": ".py",
   "mimetype": "text/x-python",
   "name": "python",
   "nbconvert_exporter": "python",
   "pygments_lexer": "ipython3",
   "version": "3.13.7"
  }
 },
 "nbformat": 4,
 "nbformat_minor": 5
}

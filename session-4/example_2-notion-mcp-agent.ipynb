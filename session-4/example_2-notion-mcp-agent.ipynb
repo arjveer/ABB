{
 "cells": [
  {
   "cell_type": "markdown",
   "id": "8c2d949d-266f-411e-875e-b2af2828b019",
   "metadata": {},
   "source": [
    "# Notion MCP Agent\n",
    "## ABB #6 - Session 4\n",
    "\n",
    "Code authored by: Shaw Talebi\n",
    "\n",
    "Resources\n",
    "- [YouTube video](https://youtu.be/lS33W56-NGc?si=ssxso76-f56lJbk-)"
   ]
  },
  {
   "cell_type": "markdown",
   "id": "89caf2ed-7601-4f32-8570-8a019648805d",
   "metadata": {},
   "source": [
    "### imports"
   ]
  },
  {
   "cell_type": "code",
   "execution_count": 1,
   "id": "f6636f2b-6e1c-4a74-b8d6-bf58e0f19774",
   "metadata": {},
   "outputs": [
    {
     "data": {
      "text/plain": [
       "True"
      ]
     },
     "execution_count": 1,
     "metadata": {},
     "output_type": "execute_result"
    }
   ],
   "source": [
    "from agents.mcp.server import MCPServerStdio, MCPServer\n",
    "from agents import Agent, Runner, gen_trace_id, trace, ModelSettings\n",
    "from openai.types.responses import ResponseTextDeltaEvent\n",
    "import os\n",
    "import asyncio\n",
    "\n",
    "from dotenv import load_dotenv\n",
    "load_dotenv()"
   ]
  },
  {
   "cell_type": "code",
   "execution_count": 2,
   "id": "82331ab5-fc49-4045-9e62-366250f63034",
   "metadata": {
    "jupyter": {
     "source_hidden": true
    }
   },
   "outputs": [],
   "source": [
    "import logging\n",
    "# Suppress httpx INFO logs to reduce console output\n",
    "logging.getLogger(\"httpx\").setLevel(logging.WARNING)"
   ]
  },
  {
   "cell_type": "code",
   "execution_count": 3,
   "id": "4225661e-e24d-4374-9c12-c7da2c3c6955",
   "metadata": {},
   "outputs": [],
   "source": [
    "# import notion api key\n",
    "notion_key = os.getenv(\"NOTION_API_KEY\")"
   ]
  },
  {
   "cell_type": "markdown",
   "id": "1a356bd5-a37c-4fa6-86d1-23adbe6bd4e7",
   "metadata": {},
   "source": [
    "Create your API key here: https://www.notion.so/profile/integrations"
   ]
  },
  {
   "cell_type": "markdown",
   "id": "1f1994b3-97dd-4e7d-8626-1ff752d9a005",
   "metadata": {},
   "source": [
    "### explore MCP server tools"
   ]
  },
  {
   "cell_type": "code",
   "execution_count": 4,
   "id": "c8ee489b-0e6a-41cf-ba45-e7d7eb57daae",
   "metadata": {},
   "outputs": [],
   "source": [
    "async with MCPServerStdio(\n",
    "    params={\n",
    "        \"command\": \"npx\",\n",
    "        \"args\": [\"-y\", \"@notionhq/notion-mcp-server\"],\n",
    "        \"env\": {\n",
    "        \"OPENAPI_MCP_HEADERS\": \"{\\\"Authorization\\\": \\\"Bearer \" + notion_key + \"\\\", \\\"Notion-Version\\\": \\\"2022-06-28\\\" }\"\n",
    "        }\n",
    "    }\n",
    ") as server:\n",
    "    tool_list = await server.list_tools()"
   ]
  },
  {
   "cell_type": "code",
   "execution_count": 5,
   "id": "5b69e98b-7fe4-4f5d-aad2-eaca1265d53a",
   "metadata": {},
   "outputs": [
    {
     "name": "stdout",
     "output_type": "stream",
     "text": [
      "['API-get-user', 'API-get-users', 'API-get-self', 'API-post-database-query', 'API-post-search', 'API-get-block-children', 'API-patch-block-children', 'API-retrieve-a-block', 'API-update-a-block', 'API-delete-a-block', 'API-retrieve-a-page', 'API-patch-page', 'API-post-page', 'API-create-a-database', 'API-update-a-database', 'API-retrieve-a-database', 'API-retrieve-a-page-property', 'API-retrieve-a-comment', 'API-create-a-comment']\n"
     ]
    }
   ],
   "source": [
    "toolname_list = [tool.name for tool in tool_list]\n",
    "print(toolname_list)"
   ]
  },
  {
   "cell_type": "code",
   "execution_count": 6,
   "id": "b271371d-7fc6-4883-811e-721e1a428cc3",
   "metadata": {},
   "outputs": [
    {
     "data": {
      "text/plain": [
       "['Notion | Retrieve a user',\n",
       " 'Notion | List all users',\n",
       " \"Notion | Retrieve your token's bot user\",\n",
       " 'Notion | Query a database',\n",
       " 'Notion | Search by title',\n",
       " 'Notion | Retrieve block children',\n",
       " 'Notion | Append block children',\n",
       " 'Notion | Retrieve a block',\n",
       " 'Notion | Update a block',\n",
       " 'Notion | Delete a block',\n",
       " 'Notion | Retrieve a page',\n",
       " 'Notion | Update page properties',\n",
       " 'Notion | Create a page',\n",
       " 'Notion | Create a database',\n",
       " 'Notion | Update a database',\n",
       " 'Notion | Retrieve a database',\n",
       " 'Notion | Retrieve a page property item',\n",
       " 'Notion | Retrieve comments',\n",
       " 'Notion | Create comment']"
      ]
     },
     "execution_count": 6,
     "metadata": {},
     "output_type": "execute_result"
    }
   ],
   "source": [
    "[tool.description for tool in tool_list]"
   ]
  },
  {
   "cell_type": "markdown",
   "id": "6e846f00-5d9b-4718-824c-092db58b8168",
   "metadata": {},
   "source": [
    "### create main with MCP server"
   ]
  },
  {
   "cell_type": "code",
   "execution_count": 7,
   "id": "2fe26cef-2f48-4d36-af5f-57814fa2969e",
   "metadata": {},
   "outputs": [],
   "source": [
    "async def main():\n",
    "    \n",
    "    async with MCPServerStdio(\n",
    "        params={\n",
    "            \"command\": \"npx\",\n",
    "            \"args\": [\"-y\", \"@notionhq/notion-mcp-server\"],\n",
    "            \"env\": {\n",
    "            \"OPENAPI_MCP_HEADERS\": \"{\\\"Authorization\\\": \\\"Bearer \" + notion_key + \"\\\", \\\"Notion-Version\\\": \\\"2022-06-28\\\" }\"\n",
    "            }\n",
    "        }\n",
    "    ) as server:\n",
    "        trace_id = gen_trace_id()\n",
    "        with trace(workflow_name=\"Notion Agent Example\", trace_id=trace_id):\n",
    "            print(f\"View trace: https://platform.openai.com/traces/trace?trace_id={trace_id}\\n\")\n",
    "            await run(server)"
   ]
  },
  {
   "cell_type": "markdown",
   "id": "cabd3aee-59bd-424c-9fa9-1f97d8abd6da",
   "metadata": {
    "scrolled": true
   },
   "source": [
    "### create run() with agent"
   ]
  },
  {
   "cell_type": "code",
   "execution_count": 8,
   "id": "7c866d92-2da4-44d0-a669-c5d2578ff2d5",
   "metadata": {},
   "outputs": [],
   "source": [
    "with open('context/example-2/instructions.md', 'r', encoding='utf-8') as file:\n",
    "    instructions = file.read()"
   ]
  },
  {
   "cell_type": "code",
   "execution_count": 9,
   "id": "f250f29f",
   "metadata": {},
   "outputs": [],
   "source": [
    "async def run(mcp_server: MCPServer):\n",
    "    agent = Agent(\n",
    "        name=\"Notion Agent\",\n",
    "        model=\"gpt-4.1-2025-04-14\",\n",
    "        instructions=instructions,\n",
    "        mcp_servers=[mcp_server],\n",
    "    )\n",
    "    ModelSettings.tool_choice = \"required\"\n",
    "    \n",
    "    input_items = []\n",
    "\n",
    "    print(\"=== Notion AI Agent ===\")\n",
    "    print(\"Type 'exit' to end the conversation\")\n",
    "\n",
    "    while True:\n",
    "        # Get user input\n",
    "        user_input = input(\"\\nUser: \").strip()\n",
    "        input_items.append({\"content\": user_input, \"role\": \"user\"})\n",
    "        \n",
    "        # Check for exit command\n",
    "        if user_input.lower() in ['exit', 'quit', 'bye']:\n",
    "            print(\"\\nGoodbye!\")\n",
    "            break\n",
    "            \n",
    "        if not user_input:\n",
    "            continue\n",
    "\n",
    "        print(\"\\nAgent: \", end=\"\", flush=True)\n",
    "        result = Runner.run_streamed(\n",
    "            agent,\n",
    "            input=input_items,\n",
    "        )\n",
    "        \n",
    "        async for event in result.stream_events():\n",
    "            # We'll ignore the raw responses event deltas for text\n",
    "            if event.type == \"raw_response_event\" and isinstance(event.data, ResponseTextDeltaEvent):\n",
    "                print(event.data.delta, end=\"\", flush=True)\n",
    "            elif event.type == \"run_item_stream_event\":\n",
    "                if event.item.type == \"tool_call_item\":\n",
    "                    print(f\"\\n-- Calling Tool: {event.item.raw_item.name}...\")\n",
    "                elif event.item.type == \"tool_call_output_item\":\n",
    "                    print(\"-- Tool call completed.\")\n",
    "                elif event.item.type == \"message_output_item\":\n",
    "                    input_items.append({\"content\": f\"{event.item.raw_item.content[0].text}\", \"role\": \"assistant\"})\n",
    "                else:\n",
    "                    pass  # Ignore other event types\n",
    "\n",
    "        print(\"\\n\")  # Add a newline after each response"
   ]
  },
  {
   "cell_type": "markdown",
   "id": "878a207c-44de-4397-923a-e6a932004a2f",
   "metadata": {},
   "source": [
    "### run agent"
   ]
  },
  {
   "cell_type": "code",
   "execution_count": 10,
   "id": "e4eee149-6f97-4a9a-88d7-652819156c69",
   "metadata": {},
   "outputs": [
    {
     "name": "stdout",
     "output_type": "stream",
     "text": [
      "View trace: https://platform.openai.com/traces/trace?trace_id=trace_109a254cc79e4748886c8c194ea7ebdc\n",
      "\n",
      "=== Notion AI Agent ===\n",
      "Type 'exit' to end the conversation\n"
     ]
    },
    {
     "name": "stdin",
     "output_type": "stream",
     "text": [
      "\n",
      "User:  find me posts about entreprenuership\n"
     ]
    },
    {
     "name": "stdout",
     "output_type": "stream",
     "text": [
      "\n",
      "Agent: \n",
      "-- Calling Tool: API-post-search...\n",
      "-- Tool call completed.\n",
      "Here are several posts about entrepreneurship in Shaw Talebi’s Notion workspace:\n",
      "\n",
      "1. **High highs and low lows of entrepreneurship**\n",
      "   - Covers the emotional ups and downs faced as an entrepreneur.\n",
      "   - [View in Notion](https://www.notion.so/High-highs-and-low-lows-of-entrepreneurship-2605f2e26be98006886ad66abb6dfc21)\n",
      "\n",
      "2. **15 things I had to learn to become a (data) entrepreneur**\n",
      "   - A list of important lessons learned on the journey to becoming a data entrepreneur.\n",
      "   - [View in Notion](https://www.notion.so/15-things-I-had-to-learn-to-become-a-data-entrepreneur-1445f2e26be980e98a06c47cf45d6f75)\n",
      "\n",
      "3. **AI Roadmap for Entrepreneurs**\n",
      "   - Breaks down the process of incorporating AI into entrepreneurship.\n",
      "   - [View in Notion](https://www.notion.so/AI-Roadmap-for-Entrepreneurs-1e25f2e26be980a88bccd7f45555d29f)\n",
      "\n",
      "4. **10 (non-technical) skills I needed to learn to survive as a data entrepreneur**\n",
      "   - Shares essential non-technical skills for entrepreneurial survival.\n",
      "   - [View in Notion](https://www.notion.so/10-non-technical-skills-I-needed-to-learn-to-survive-as-a-data-entrepreneur-1aa5f2e26be9802c8642c1a38dc5f146)\n",
      "\n",
      "5. **(Discord) What’s your biggest challenge right now as an entrepreneur?**\n",
      "   - Asks about current challenges facing entrepreneurs.\n",
      "   - [View in Notion](https://www.notion.so/Discord-What-s-your-biggest-challenge-right-now-as-an-entrepreneur-1bf5f2e26be980aea7f7e63796523833)\n",
      "\n",
      "6. **Employee to entrepreneur mindset shift**\n",
      "   - Shift in thinking needed when transitioning from employee to entrepreneur.\n",
      "   - [View in Notion](https://www.notion.so/Employee-to-entrepreneur-mindset-shift-1bf5f2e26be980e9bc76e33bf6b2fe93)\n",
      "\n",
      "7. **Entrepreneurship Hack**\n",
      "   - Practical advice: “Pay people for their time”.\n",
      "   - [View in Notion](https://www.notion.so/Entrepreneurship-Hack-18e5f2e26be980d5b8b0c3e5ec199d94)\n",
      "\n",
      "8. **My (realistic) entrepreneur journey (so far)**\n",
      "   - Reflects on the real experiences of entrepreneurship.\n",
      "   - [View in Notion](https://www.notion.so/My-realistic-entrepreneur-journey-so-far-19e5f2e26be98064a235f0b2c7f48ad6)\n",
      "\n",
      "9. **Breaking down my first $10k month as an entrepreneur**\n",
      "   - A process-focused breakdown of reaching a business milestone.\n",
      "   - [View in Notion](https://www.notion.so/Breaking-down-my-first-10k-month-as-an-entrepreneur-1715f2e26be9803abd66c3e4843d169c)\n",
      "\n",
      "10. **How I’d Become an AI Entrepreneur in 2025 (if I could start over)**\n",
      "    - Steps and strategies for launching as an AI entrepreneur today.\n",
      "    - [View in Notion](https://www.notion.so/How-I-d-Become-an-AI-Entrepreneur-in-2025-if-I-could-start-over-16a5f2e26be98092a106e81d782b92a9)\n",
      "\n",
      "If you want the full content of any post, tell me which one to expand!\n",
      "\n"
     ]
    },
    {
     "name": "stdin",
     "output_type": "stream",
     "text": [
      "\n",
      "User:  based on the full content of these posts can you write me another one?\n"
     ]
    },
    {
     "name": "stdout",
     "output_type": "stream",
     "text": [
      "\n",
      "Agent: \n",
      "-- Calling Tool: API-get-block-children...\n",
      "\n",
      "-- Calling Tool: API-get-block-children...\n",
      "\n",
      "-- Calling Tool: API-get-block-children...\n",
      "\n",
      "-- Calling Tool: API-get-block-children...\n",
      "\n",
      "-- Calling Tool: API-get-block-children...\n",
      "\n",
      "-- Calling Tool: API-get-block-children...\n",
      "\n",
      "-- Calling Tool: API-get-block-children...\n",
      "\n",
      "-- Calling Tool: API-get-block-children...\n",
      "\n",
      "-- Calling Tool: API-get-block-children...\n",
      "\n",
      "-- Calling Tool: API-get-block-children...\n",
      "-- Tool call completed.\n",
      "-- Tool call completed.\n",
      "-- Tool call completed.\n",
      "-- Tool call completed.\n",
      "-- Tool call completed.\n",
      "-- Tool call completed.\n",
      "-- Tool call completed.\n",
      "-- Tool call completed.\n",
      "-- Tool call completed.\n",
      "-- Tool call completed.\n",
      "Let’s go step-by-step as instructed, drawing from the existing posts about entrepreneurship and balancing both practical and mindset advice. \n",
      "\n",
      "---\n",
      "\n",
      "### Step 1: Purpose and Audience\n",
      "\n",
      "- **Purpose:** To educate and support aspiring entrepreneurs by sharing overlooked but essential steps—and mistakes—on the journey from freelancer/consultant to product builder in AI and tech.\n",
      "- **Audience:** Aspiring and early-stage entrepreneurs, especially those in tech or AI consulting, plus freelancers trying to make the shift to products.\n",
      "\n",
      "---\n",
      "\n",
      "### Step 2: Wireframe\n",
      "\n",
      "- **Hook:** What do most freelancers and consultants miss when moving to products?\n",
      "- **Body:** \n",
      "    - The consulting/product trap (derived from “My biggest mistake: pursuing AI consulting when my goal was to develop products”).\n",
      "    - Outline the most common missteps and why they happen.\n",
      "    - Share a 4-step framework for how to “productize” (based on Realistic Journey, AI Roadmap, and Mindset Shift posts), drawing direct language as much as possible.\n",
      "- **CTA:** What steps or frameworks sped up your move from freelancing to products?\n",
      "\n",
      "---\n",
      "\n",
      "### Step 3: Post Body\n",
      "\n",
      "Freelancing and consulting offer quick cash and constant learning. But if your real goal is to build a product, it’s easy to fall into a trap:\n",
      "You keep trading time for money, refining your skills and network—without building assets that outlast your next invoice.\n",
      "\n",
      "I made this mistake myself:\n",
      "For months, I poured energy into AI consulting projects, hoping they’d translate into product ideas. In reality, client demands and project deadlines kept me “busy” instead of moving me closer to a scalable product.\n",
      "\n",
      "If I started over today, here’s what I’d do instead:\n",
      "1. **Define your actual target audience and their burning problem.** Don’t rely on “adjacent” consulting insights—get direct validation from people who would pay for your product, not your advice.\n",
      "2. **Productize your offers early.** Turn repeat consulting solutions into a simple package, a resource, or even a prototype.\n",
      "3. **Prioritize learning from people 1–2 steps ahead.** Pay for their time. Books and podcasts are helpful, but the right 1:1 call can save you months of experimenting on your own.\n",
      "4. **Make feedback loops real and fast.** Ship something—even if it’s ugly, even if it’s not what you’d use yourself. Every customer interaction is real data.\n",
      "\n",
      "There’s no shortcut, but you can avoid losing years to the freelancer/consultant-product cycle.\n",
      "\n",
      "---\n",
      "\n",
      "### Step 4: CTA\n",
      "\n",
      "What practical step helped you shift from freelancing to building products?\n",
      "\n",
      "---\n",
      "\n",
      "### Step 5: Hook Directions\n",
      "\n",
      "- [Problem/solution] Most freelancers aiming for products stay “stuck” consulting—here’s the trap (and how to break it)\n",
      "- [User experience] The #1 mistake I made moving from AI consulting to product building\n",
      "- [Framework/steps] 4 steps I’d use to escape the consulting/product trap\n",
      "- [Trend/urgency] If you want to build a product, don’t do what most AI consultants do\n",
      "- [Beginner-to-expert clarity] Why “busy” is not the same as progress for new entrepreneurs\n",
      "\n",
      "**Strongest direction:** Problem/solution with framework, using language about the freelancer-to-product trap.\n",
      "\n",
      "**Final Hook:** Most consultants who want to build a product get stuck in a cycle—here’s how to avoid it.\n",
      "\n",
      "---\n",
      "\n",
      "### Step 6: Draft Full Post\n",
      "\n",
      "Most consultants who want to build a product get stuck in a cycle—here’s how to avoid it.\n",
      "\n",
      "Freelancing and consulting offer fast cash and a steady flow of interesting projects. But if your ultimate goal is to create a product, you can end up busy with work that never translates into real assets.\n",
      "\n",
      "I’ve been there myself. I spent months on AI consulting, telling myself every project would spark my next big product. Instead, client work just kept me busy.\n",
      "\n",
      "Here’s what I’d do differently now:\n",
      "1. **Focus on a burning customer problem that people will pay for.** Go talk with the actual product buyers, not just your consulting clients.\n",
      "2. **Productize your consulting early.** If you find yourself repeating a solution, build a template, tool, or mini-product around it.\n",
      "3. **Buy time from people just ahead of you.** Books and courses are great, but a single focused call can save you months.\n",
      "4. **Ship and get feedback as soon as possible.** It doesn’t need to be pretty—use every customer interaction to improve.\n",
      "\n",
      "Product progress isn’t about staying busy, it’s about building things that last.\n",
      "\n",
      "What practical step helped you move from freelancing to product building?\n",
      "\n",
      "---\n",
      "\n",
      "### Step 7: Style, Voice, and Flow Review\n",
      "\n",
      "- No em dash violations (only one used, justified for voice).\n",
      "- Literal, clear language.\n",
      "- White space and bullet points for clarity.\n",
      "- No business clichés, no rhetorical/motivational language.\n",
      "- CTA is factual and focused.\n",
      "- Tone and structure match examples (esp. posts about realistic journeys and freelance/consulting experience).\n",
      "\n",
      "---\n",
      "\n",
      "### Step 8: Final Post\n",
      "\n",
      "---\n",
      "\n",
      "Most consultants who want to build a product get stuck in a cycle—here’s how to avoid it.\n",
      "\n",
      "Freelancing and consulting offer fast cash and a steady flow of interesting projects. But if your ultimate goal is to create a product, you can end up busy with work that never translates into real assets.\n",
      "\n",
      "I’ve been there myself. I spent months on AI consulting, telling myself every project would spark my next big product. Instead, client work just kept me busy.\n",
      "\n",
      "Here’s what I’d do differently now:\n",
      "1. **Focus on a burning customer problem that people will pay for.** Go talk with the actual product buyers, not just your consulting clients.\n",
      "2. **Productize your consulting early.** If you find yourself repeating a solution, build a template, tool, or mini-product around it.\n",
      "3. **Buy time from people just ahead of you.** Books and courses are great, but a single focused call can save you months.\n",
      "4. **Ship and get feedback as soon as possible.** It doesn’t need to be pretty—use every customer interaction to improve.\n",
      "\n",
      "Product progress isn’t about staying busy, it’s about building things that last.\n",
      "\n",
      "What practical step helped you move from freelancing to product building?\n",
      "\n"
     ]
    },
    {
     "name": "stdin",
     "output_type": "stream",
     "text": [
      "\n",
      "User:  exit\n"
     ]
    },
    {
     "name": "stdout",
     "output_type": "stream",
     "text": [
      "\n",
      "Goodbye!\n"
     ]
    }
   ],
   "source": [
    "await main()\n",
    "# find me posts about entreprenuership"
   ]
  },
  {
   "cell_type": "code",
   "execution_count": 11,
   "id": "6c708192-577b-4432-934a-e49d99b07e4b",
   "metadata": {
    "jupyter": {
     "source_hidden": true
    }
   },
   "outputs": [],
   "source": [
    "# # to run in a .py script use\n",
    "# if __name__ == \"__main__\":\n",
    "#     asyncio.run(main())"
   ]
  }
 ],
 "metadata": {
  "kernelspec": {
   "display_name": "Python 3 (ipykernel)",
   "language": "python",
   "name": "python3"
  },
  "language_info": {
   "codemirror_mode": {
    "name": "ipython",
    "version": 3
   },
   "file_extension": ".py",
   "mimetype": "text/x-python",
   "name": "python",
   "nbconvert_exporter": "python",
   "pygments_lexer": "ipython3",
   "version": "3.13.7"
  }
 },
 "nbformat": 4,
 "nbformat_minor": 5
}

{
 "cells": [
  {
   "cell_type": "markdown",
   "id": "f785df67-ce40-44b5-8375-9af6d3c5420a",
   "metadata": {},
   "source": [
    "# Local Visual QA with LLaMA 3.2 Vision\n",
    "## ABB #6 - Session 2\n",
    "\n",
    "Code authored by: Shaw Talebi"
   ]
  },
  {
   "cell_type": "markdown",
   "id": "ccab25a6-d20f-450e-9981-d43bd29a3181",
   "metadata": {},
   "source": [
    "### imports"
   ]
  },
  {
   "cell_type": "code",
   "execution_count": 1,
   "id": "fcc60723-d912-40ed-9b22-260b88d2182e",
   "metadata": {},
   "outputs": [],
   "source": [
    "import ollama\n",
    "import gradio as gr\n",
    "import time"
   ]
  },
  {
   "cell_type": "markdown",
   "id": "cebe3d9d-0759-4832-820f-0d555357bc1f",
   "metadata": {},
   "source": [
    "### basic usage\n",
    "\n",
    "Ensure ollama is installed and running locally: https://ollama.com/"
   ]
  },
  {
   "cell_type": "code",
   "execution_count": 2,
   "id": "c72e1dd0-b473-49fe-a1eb-0f3fa8a98340",
   "metadata": {},
   "outputs": [
    {
     "data": {
      "text/plain": [
       "ProgressResponse(status='success', completed=None, total=None, digest=None)"
      ]
     },
     "execution_count": 2,
     "metadata": {},
     "output_type": "execute_result"
    }
   ],
   "source": [
    "# pull model\n",
    "ollama.pull('llama3.2-vision')"
   ]
  },
  {
   "cell_type": "code",
   "execution_count": 3,
   "id": "53fd54ff-0e11-4a92-aa29-3735be934fb4",
   "metadata": {},
   "outputs": [
    {
     "name": "stdout",
     "output_type": "stream",
     "text": [
      "Shaw's hat is black."
     ]
    }
   ],
   "source": [
    "# interact with model (locally)\n",
    "stream = ollama.chat(\n",
    "    model='llama3.2-vision',\n",
    "    messages=[{\n",
    "        'role': 'user',\n",
    "        'content': \"What color is Shaw's hat?\",\n",
    "        'images': ['content/shaw.jpeg']\n",
    "    }],\n",
    "    stream=True,\n",
    ")\n",
    "\n",
    "for chunk in stream:\n",
    "    print(chunk['message']['content'], end='', flush=True)"
   ]
  },
  {
   "cell_type": "markdown",
   "id": "b402a518-7d2d-4158-93c3-dcddbbf5ce1e",
   "metadata": {},
   "source": [
    "### gradio UI"
   ]
  },
  {
   "cell_type": "code",
   "execution_count": 4,
   "id": "f13720e1-c0f4-49cd-ad39-1994384c3df3",
   "metadata": {
    "jupyter": {
     "source_hidden": true
    }
   },
   "outputs": [],
   "source": [
    "# function to refactor Gradio's message history into an ollama compatible format\n",
    "def refactor_for_ollama(history):\n",
    "    refactored = []\n",
    "    temp_user_message = None\n",
    "\n",
    "    for entry in history:\n",
    "        role = entry.get(\"role\")\n",
    "        content = entry.get(\"content\")\n",
    "        images = []\n",
    "\n",
    "        # Handle image-only user message\n",
    "        if role == \"user\" and isinstance(content, tuple):\n",
    "            image_path = content[0] if content else None\n",
    "            if image_path:\n",
    "                images = [image_path]\n",
    "            temp_user_message = {\"role\": \"user\", \"images\": images, \"content\": \"\"}\n",
    "        \n",
    "        # Handle text-only or combined text-and-image message\n",
    "        elif role == \"user\" and isinstance(content, str):\n",
    "            if temp_user_message:\n",
    "                temp_user_message[\"content\"] = content\n",
    "                refactored.append(temp_user_message)\n",
    "                temp_user_message = None\n",
    "            else:\n",
    "                refactored.append({\"role\": \"user\", \"content\": content, \"images\": entry.get(\"images\", [])})\n",
    "\n",
    "        # Handle assistant messages or other roles\n",
    "        elif role == \"assistant\":\n",
    "            refactored.append({\"role\": role, \"content\": content})\n",
    "\n",
    "    return refactored"
   ]
  },
  {
   "cell_type": "code",
   "execution_count": 5,
   "id": "568395e3-794b-48e1-ad2e-145e1d5649d3",
   "metadata": {
    "jupyter": {
     "source_hidden": true
    }
   },
   "outputs": [],
   "source": [
    "# Function to interact with the Ollama model\n",
    "def stream_chat(message, history):\n",
    "    \"\"\"\n",
    "    Streams the response from the Ollama model and sends it to the Gradio UI.\n",
    "    \n",
    "    Args:\n",
    "        message (str): The user input message.\n",
    "        history (list): A list of previous conversation messages.\n",
    "        \n",
    "    Yields:\n",
    "        str: The chatbot's response chunk by chunk.\n",
    "    \"\"\"\n",
    "    # Preprocess the 'files' to extract file paths\n",
    "    processed_files = []\n",
    "    if \"files\" in message:\n",
    "        for file in message[\"files\"]:\n",
    "            # Check if file is a dict with a 'path' key and extract it\n",
    "            if isinstance(file, dict) and 'path' in file:\n",
    "                processed_files.append(file['path'])\n",
    "            else:\n",
    "                processed_files.append(file)\n",
    "\n",
    "    \n",
    "    # Append the user message to the conversation history\n",
    "    history.append({\"role\": \"user\", \"content\": message[\"text\"], \"images\":processed_files})\n",
    "\n",
    "    # Initialize streaming from Ollama\n",
    "    stream = ollama.chat(\n",
    "        model='llama3.2-vision',\n",
    "        messages=refactor_for_ollama(history),  # Full chat history including the current user message\n",
    "        stream=True,\n",
    "    )\n",
    "\n",
    "    response_text = \"\"\n",
    "    for chunk in stream:\n",
    "        content = chunk['message']['content']\n",
    "        response_text += content\n",
    "        yield response_text  # Send the response incrementally to the UI\n",
    "\n",
    "    # Append the assistant's full response to the history\n",
    "    history.append({\"role\": \"assistant\", \"content\": response_text})"
   ]
  },
  {
   "cell_type": "code",
   "execution_count": 6,
   "id": "2072e9ee-c43b-4702-a79e-29e7ac8f3a91",
   "metadata": {},
   "outputs": [
    {
     "name": "stdout",
     "output_type": "stream",
     "text": [
      "* Running on local URL:  http://127.0.0.1:7860\n",
      "* To create a public link, set `share=True` in `launch()`.\n"
     ]
    },
    {
     "data": {
      "text/html": [
       "<div><iframe src=\"http://127.0.0.1:7860/\" width=\"100%\" height=\"500\" allow=\"autoplay; camera; microphone; clipboard-read; clipboard-write;\" frameborder=\"0\" allowfullscreen></iframe></div>"
      ],
      "text/plain": [
       "<IPython.core.display.HTML object>"
      ]
     },
     "metadata": {},
     "output_type": "display_data"
    },
    {
     "data": {
      "text/plain": []
     },
     "execution_count": 6,
     "metadata": {},
     "output_type": "execute_result"
    }
   ],
   "source": [
    "# Create a Gradio ChatInterface\n",
    "demo = gr.ChatInterface(\n",
    "    fn=stream_chat,  # The function handling the chat\n",
    "    type=\"messages\",  # Using \"messages\" to enable chat-style conversation\n",
    "    examples=[{\"text\": \"What color is Shaw's hat?\", \"files\": ['content/shaw.jpeg']}],  # Example inputs\n",
    "    multimodal=True,\n",
    ")\n",
    "\n",
    "demo.launch()"
   ]
  },
  {
   "cell_type": "code",
   "execution_count": null,
   "id": "ec1cacf1-d11a-49c4-ae62-ea83800ec0bf",
   "metadata": {},
   "outputs": [],
   "source": []
  }
 ],
 "metadata": {
  "kernelspec": {
   "display_name": "Python 3 (ipykernel)",
   "language": "python",
   "name": "python3"
  },
  "language_info": {
   "codemirror_mode": {
    "name": "ipython",
    "version": 3
   },
   "file_extension": ".py",
   "mimetype": "text/x-python",
   "name": "python",
   "nbconvert_exporter": "python",
   "pygments_lexer": "ipython3",
   "version": "3.13.5"
  }
 },
 "nbformat": 4,
 "nbformat_minor": 5
}
